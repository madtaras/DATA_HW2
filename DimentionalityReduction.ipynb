{
 "cells": [
  {
   "cell_type": "code",
   "execution_count": 33,
   "metadata": {},
   "outputs": [],
   "source": [
    "import numpy as np\n",
    "from sklearn import decomposition\n",
    "from sklearn import linear_model\n",
    "import timeit"
   ]
  },
  {
   "cell_type": "code",
   "execution_count": 25,
   "metadata": {},
   "outputs": [],
   "source": [
    "train = np.genfromtxt('data/gisette/gisette_train.data', delimiter=' ')\n",
    "train_labels = np.genfromtxt('data/gisette/gisette_train.labels')\n",
    "\n",
    "valid = np.genfromtxt('data/gisette/gisette_valid.data', delimiter=' ')\n",
    "valid_labels = np.genfromtxt('data/gisette/gisette_valid.labels')"
   ]
  },
  {
   "cell_type": "code",
   "execution_count": 27,
   "metadata": {},
   "outputs": [
    {
     "name": "stdout",
     "output_type": "stream",
     "text": [
      "Time:  1.835482795999269\n"
     ]
    }
   ],
   "source": [
    "start = timeit.default_timer()\n",
    "\n",
    "logreg = linear_model.LogisticRegression(C=1e5)\n",
    "logreg.fit(train, train_labels)\n",
    "\n",
    "stop = timeit.default_timer()\n",
    "\n",
    "print('Time: ', stop - start)  "
   ]
  },
  {
   "cell_type": "code",
   "execution_count": 31,
   "metadata": {},
   "outputs": [
    {
     "data": {
      "text/plain": [
       "0.983"
      ]
     },
     "execution_count": 31,
     "metadata": {},
     "output_type": "execute_result"
    }
   ],
   "source": [
    "logreg.score(valid, valid_labels)"
   ]
  },
  {
   "cell_type": "code",
   "execution_count": 46,
   "metadata": {},
   "outputs": [],
   "source": [
    "pca = decomposition.PCA(n_components=5)\n",
    "train_c5 = pca.fit_transform(train)\n",
    "valid_c5 = pca.fit_transform(valid)\n",
    "\n",
    "pca = decomposition.PCA(n_components=10)\n",
    "train_c10 = pca.fit_transform(train)\n",
    "valid_c10 = pca.fit_transform(valid)\n",
    "\n",
    "pca = decomposition.PCA(n_components=20)\n",
    "train_c20 = pca.fit_transform(train)\n",
    "valid_c20 = pca.fit_transform(valid)\n",
    "\n",
    "pca = decomposition.PCA(n_components=50)\n",
    "train_c50 = pca.fit_transform(train)\n",
    "valid_c50 = pca.fit_transform(valid)\n",
    "\n",
    "pca = decomposition.PCA(n_components=100)\n",
    "train_c100 = pca.fit_transform(train)\n",
    "valid_c100 = pca.fit_transform(valid)"
   ]
  },
  {
   "cell_type": "code",
   "execution_count": 47,
   "metadata": {},
   "outputs": [
    {
     "data": {
      "text/plain": [
       "array([[10625.49032311,  2640.71752336,  6733.28222802,  8270.69418531,\n",
       "         1052.48136627],\n",
       "       [ 5046.23858128, -5301.98908288, -4247.26914654, -2492.18409595,\n",
       "          194.59734199],\n",
       "       [ 1814.15443383, -5894.79062872, -2199.47862341,  2353.53518526,\n",
       "         3805.57015389],\n",
       "       ...,\n",
       "       [  875.08216412, -5584.87438239, -2768.44674207, -1023.47457228,\n",
       "         -512.865912  ],\n",
       "       [-1065.71292402, -4327.67189742,  2537.08913045,  -938.08085425,\n",
       "         -330.82203484],\n",
       "       [-1307.07497986,  5726.6343569 , -3408.67005296, -2835.41206935,\n",
       "         3140.72346736]])"
      ]
     },
     "execution_count": 47,
     "metadata": {},
     "output_type": "execute_result"
    }
   ],
   "source": [
    "train_c5"
   ]
  },
  {
   "cell_type": "code",
   "execution_count": 58,
   "metadata": {},
   "outputs": [
    {
     "name": "stdout",
     "output_type": "stream",
     "text": [
      "Time for n=5:  0.0076652810093946755\n",
      "Score for n=5:  0.785\n"
     ]
    }
   ],
   "source": [
    "start = timeit.default_timer()\n",
    "\n",
    "logreg_c5 = linear_model.LogisticRegression(C=1e5)\n",
    "logreg_c5.fit(train_c5, train_labels)\n",
    "\n",
    "stop = timeit.default_timer()\n",
    "\n",
    "print('Time for n=5: ', stop - start)  \n",
    "print('Score for n=5: ', logreg_c5.score(valid_c5, valid_labels))"
   ]
  },
  {
   "cell_type": "code",
   "execution_count": 59,
   "metadata": {},
   "outputs": [
    {
     "name": "stdout",
     "output_type": "stream",
     "text": [
      "Time for n=10:  0.011238135994062759\n",
      "Score for n=10:  0.77\n"
     ]
    }
   ],
   "source": [
    "start = timeit.default_timer()\n",
    "\n",
    "logreg_c10 = linear_model.LogisticRegression(C=1e5)\n",
    "logreg_c10.fit(train_c10, train_labels)\n",
    "\n",
    "stop = timeit.default_timer()\n",
    "\n",
    "print('Time for n=10: ', stop - start)  \n",
    "print('Score for n=10: ', logreg_c10.score(valid_c10, valid_labels))"
   ]
  },
  {
   "cell_type": "code",
   "execution_count": 60,
   "metadata": {},
   "outputs": [
    {
     "name": "stdout",
     "output_type": "stream",
     "text": [
      "Time for n=20:  0.026845837011933327\n",
      "Score for n=20:  0.774\n"
     ]
    }
   ],
   "source": [
    "start = timeit.default_timer()\n",
    "\n",
    "logreg_c20 = linear_model.LogisticRegression(C=1e5)\n",
    "logreg_c20.fit(train_c20, train_labels)\n",
    "\n",
    "stop = timeit.default_timer()\n",
    "\n",
    "print('Time for n=20: ', stop - start)  \n",
    "print('Score for n=20: ', logreg_c20.score(valid_c20, valid_labels))"
   ]
  },
  {
   "cell_type": "code",
   "execution_count": 61,
   "metadata": {},
   "outputs": [
    {
     "name": "stdout",
     "output_type": "stream",
     "text": [
      "Time for n=50:  0.06504962699546013\n",
      "Score for n=50:  0.762\n"
     ]
    }
   ],
   "source": [
    "start = timeit.default_timer()\n",
    "\n",
    "logreg_c50 = linear_model.LogisticRegression(C=1e5)\n",
    "logreg_c50.fit(train_c50, train_labels)\n",
    "\n",
    "stop = timeit.default_timer()\n",
    "\n",
    "print('Time for n=50: ', stop - start)  \n",
    "print('Score for n=50: ', logreg_c50.score(valid_c50, valid_labels))"
   ]
  },
  {
   "cell_type": "code",
   "execution_count": 62,
   "metadata": {},
   "outputs": [
    {
     "name": "stdout",
     "output_type": "stream",
     "text": [
      "Time for n=100:  0.18855567500577308\n",
      "Score for n=100:  0.758\n"
     ]
    }
   ],
   "source": [
    "start = timeit.default_timer()\n",
    "\n",
    "logreg_c100 = linear_model.LogisticRegression(C=1e5)\n",
    "logreg_c100.fit(train_c100, train_labels)\n",
    "\n",
    "stop = timeit.default_timer()\n",
    "\n",
    "print('Time for n=100: ', stop - start)  \n",
    "print('Score for n=100: ', logreg_c100.score(valid_c100, valid_labels))"
   ]
  },
  {
   "cell_type": "code",
   "execution_count": 66,
   "metadata": {},
   "outputs": [],
   "source": [
    "transformer = decomposition.FactorAnalysis(n_components=3, random_state=0)\n",
    "train_c3f = transformer.fit_transform(train)\n",
    "valid_c3f = transformer.fit_transform(valid)\n",
    "\n",
    "transformer = decomposition.FactorAnalysis(n_components=5, random_state=0)\n",
    "train_c5f = transformer.fit_transform(train)\n",
    "valid_c5f = transformer.fit_transform(valid)\n",
    "\n",
    "transformer = decomposition.FactorAnalysis(n_components=10, random_state=0)\n",
    "train_c10f = transformer.fit_transform(train)\n",
    "valid_c10f = transformer.fit_transform(valid)\n",
    "\n",
    "transformer = decomposition.FactorAnalysis(n_components=20, random_state=0)\n",
    "train_c20f = transformer.fit_transform(train)\n",
    "valid_c20f = transformer.fit_transform(valid)\n",
    "\n",
    "transformer = decomposition.FactorAnalysis(n_components=50, random_state=0)\n",
    "train_c50f = transformer.fit_transform(train)\n",
    "valid_c50f = transformer.fit_transform(valid)"
   ]
  },
  {
   "cell_type": "code",
   "execution_count": 68,
   "metadata": {},
   "outputs": [
    {
     "name": "stdout",
     "output_type": "stream",
     "text": [
      "Time for n=3:  0.007386415003566071\n",
      "Score for n=3:  0.744\n",
      "Time for n=5:  0.006738064999808557\n",
      "Score for n=5:  0.812\n",
      "Time for n=10:  0.008673792995978147\n",
      "Score for n=10:  0.856\n",
      "Time for n=20:  0.018179655002313666\n",
      "Score for n=20:  0.76\n",
      "Time for n=50:  0.03418337400944438\n",
      "Score for n=50:  0.695\n"
     ]
    }
   ],
   "source": [
    "start = timeit.default_timer()\n",
    "\n",
    "logreg_c3f = linear_model.LogisticRegression(C=1e5)\n",
    "logreg_c3f.fit(train_c3f, train_labels)\n",
    "\n",
    "stop = timeit.default_timer()\n",
    "\n",
    "print('Time for n=3: ', stop - start)  \n",
    "print('Score for n=3: ', logreg_c3f.score(valid_c3f, valid_labels))\n",
    "\n",
    "start = timeit.default_timer()\n",
    "\n",
    "logreg_c5f = linear_model.LogisticRegression(C=1e5)\n",
    "logreg_c5f.fit(train_c5f, train_labels)\n",
    "\n",
    "stop = timeit.default_timer()\n",
    "\n",
    "print('Time for n=5: ', stop - start)  \n",
    "print('Score for n=5: ', logreg_c5f.score(valid_c5f, valid_labels))\n",
    "\n",
    "start = timeit.default_timer()\n",
    "\n",
    "logreg_c10f = linear_model.LogisticRegression(C=1e5)\n",
    "logreg_c10f.fit(train_c10f, train_labels)\n",
    "\n",
    "stop = timeit.default_timer()\n",
    "\n",
    "print('Time for n=10: ', stop - start)  \n",
    "print('Score for n=10: ', logreg_c10f.score(valid_c10f, valid_labels))\n",
    "\n",
    "start = timeit.default_timer()\n",
    "\n",
    "logreg_c20f = linear_model.LogisticRegression(C=1e5)\n",
    "logreg_c20f.fit(train_c20f, train_labels)\n",
    "\n",
    "stop = timeit.default_timer()\n",
    "\n",
    "print('Time for n=20: ', stop - start)  \n",
    "print('Score for n=20: ', logreg_c20f.score(valid_c20f, valid_labels))\n",
    "\n",
    "start = timeit.default_timer()\n",
    "\n",
    "logreg_c50f = linear_model.LogisticRegression(C=1e5)\n",
    "logreg_c50f.fit(train_c50f, train_labels)\n",
    "\n",
    "stop = timeit.default_timer()\n",
    "\n",
    "print('Time for n=50: ', stop - start)  \n",
    "print('Score for n=50: ', logreg_c50f.score(valid_c50f, valid_labels))"
   ]
  },
  {
   "cell_type": "markdown",
   "metadata": {},
   "source": [
    "## Original model\n",
    "\n",
    "Time:  1.835482795999269\n",
    "Score: 0.983\n",
    "\n",
    "Pros:  \n",
    "good accuracy  \n",
    "Cons:  \n",
    "long training  \n",
    "\n",
    "## Best score from PCA\n",
    "\n",
    "Time for n=5:  0.0076652810093946755\n",
    "Score for n=5:  0.785\n",
    "\n",
    "Pros:  \n",
    "very efficient  \n",
    "Cons:  \n",
    "Strongly focused in variance\n",
    "\n",
    "## Best score from FA\n",
    "\n",
    "Time for n=10:  0.008673792995978147\n",
    "Score for n=10:  0.856\n"
   ]
  },
  {
   "cell_type": "code",
   "execution_count": null,
   "metadata": {},
   "outputs": [],
   "source": []
  }
 ],
 "metadata": {
  "kernelspec": {
   "display_name": "Python 3",
   "language": "python",
   "name": "python3"
  },
  "language_info": {
   "codemirror_mode": {
    "name": "ipython",
    "version": 3
   },
   "file_extension": ".py",
   "mimetype": "text/x-python",
   "name": "python",
   "nbconvert_exporter": "python",
   "pygments_lexer": "ipython3",
   "version": "3.5.5"
  },
  "widgets": {
   "state": {},
   "version": "1.1.2"
  }
 },
 "nbformat": 4,
 "nbformat_minor": 2
}
